version https://git-lfs.github.com/spec/v1
oid sha256:c6c45793fcec530faa29c4ce0fcb007e519dc42bed6938c88d123d1289e3e766
size 69264619
