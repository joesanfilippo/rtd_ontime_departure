{
 "cells": [
  {
   "cell_type": "code",
   "execution_count": 1,
   "id": "according-identification",
   "metadata": {},
   "outputs": [],
   "source": [
    "import pandas as pd\n",
    "pd.set_option('display.max_rows', 200)\n",
    "pd.set_option('display.max_columns', 100)\n",
    "import numpy as np\n",
    "import matplotlib.pyplot as plt\n",
    "plt.style.use('ggplot')\n",
    "font = {'weight': 'bold','size':   16}\n",
    "plt.rc('font', **font)\n",
    "import geopy.distance as geo\n",
    "import re"
   ]
  },
  {
   "cell_type": "code",
   "execution_count": 18,
   "id": "delayed-baking",
   "metadata": {},
   "outputs": [
    {
     "data": {
      "text/plain": [
       "(1234476, 13)"
      ]
     },
     "execution_count": 18,
     "metadata": {},
     "output_type": "execute_result"
    }
   ],
   "source": [
    "rtd_df = pd.read_csv('../data/rtd_data.csv')\n",
    "# import os\n",
    "# import boto3\n",
    "# import pandas as pd\n",
    "# import io\n",
    "\n",
    "# # get your credentials from environment variables\n",
    "# aws_id = os.environ['AWS_ACCESS_KEY_ID']\n",
    "# aws_secret = os.environ['AWS_SECRET_ACCESS_KEY']\n",
    "\n",
    "# client = boto3.client('s3'\n",
    "#                       ,aws_access_key_id=aws_id\n",
    "#                       ,aws_secret_access_key=aws_secret)\n",
    "\n",
    "# bucket_name = 'rtd-on-time-departure'\n",
    "\n",
    "# object_key = 'rtd_data.csv'\n",
    "# csv_obj = client.get_object(Bucket=bucket_name, Key=object_key)\n",
    "\n",
    "# rtd_df = pd.read_csv(io.BytesIO(csv_obj['Body'].read()), encoding='utf8')\n",
    "\n",
    "rtd_df.shape"
   ]
  },
  {
   "cell_type": "code",
   "execution_count": 19,
   "id": "numerical-theater",
   "metadata": {},
   "outputs": [
    {
     "data": {
      "text/plain": [
       "(1234475, 13)"
      ]
     },
     "execution_count": 19,
     "metadata": {},
     "output_type": "execute_result"
    }
   ],
   "source": [
    "rtd_df = rtd_df[(~rtd_df.timestamp.isnull())]\n",
    "rtd_df.shape"
   ]
  },
  {
   "cell_type": "code",
   "execution_count": 20,
   "id": "super-entrance",
   "metadata": {},
   "outputs": [
    {
     "name": "stdout",
     "output_type": "stream",
     "text": [
      "<class 'pandas.core.frame.DataFrame'>\n",
      "Int64Index: 1234475 entries, 1 to 1234475\n",
      "Data columns (total 13 columns):\n",
      " #   Column                 Non-Null Count    Dtype  \n",
      "---  ------                 --------------    -----  \n",
      " 0   entity_id              1234475 non-null  object \n",
      " 1   trip_id                1234475 non-null  float64\n",
      " 2   schedule_relationship  1234475 non-null  float64\n",
      " 3   route_id               1234475 non-null  object \n",
      " 4   direction_id           1234475 non-null  float64\n",
      " 5   vehicle_lat            1234475 non-null  float64\n",
      " 6   vehicle_lng            1234475 non-null  float64\n",
      " 7   bearing                1234475 non-null  float64\n",
      " 8   current_status         1234475 non-null  float64\n",
      " 9   timestamp              1234475 non-null  float64\n",
      " 10  stop_id                1234475 non-null  float64\n",
      " 11  vehicle_id             1234475 non-null  object \n",
      " 12  vehicle_label          1234475 non-null  float64\n",
      "dtypes: float64(10), object(3)\n",
      "memory usage: 131.9+ MB\n"
     ]
    }
   ],
   "source": [
    "rtd_df.info()"
   ]
  },
  {
   "cell_type": "code",
   "execution_count": 21,
   "id": "adjustable-terrorism",
   "metadata": {},
   "outputs": [
    {
     "data": {
      "text/plain": [
       "array([1.534e+03, 1.541e+03, 3.615e+03, 3.634e+03, 3.668e+03, 3.712e+03,\n",
       "       5.106e+03, 5.109e+03, 5.114e+03, 5.122e+03, 5.125e+03, 5.126e+03,\n",
       "       5.160e+03, 5.174e+03, 5.182e+03, 5.184e+03, 5.187e+03, 5.236e+03,\n",
       "       5.247e+03, 5.250e+03, 6.001e+03, 6.011e+03, 6.017e+03, 6.020e+03,\n",
       "       6.024e+03, 6.042e+03, 6.054e+03, 6.060e+03, 6.062e+03, 6.063e+03,\n",
       "       6.065e+03, 6.068e+03, 6.069e+03, 6.073e+03, 6.074e+03, 6.076e+03,\n",
       "       6.084e+03, 6.086e+03, 6.092e+03, 6.095e+03, 6.101e+03, 6.104e+03,\n",
       "       6.110e+03, 6.127e+03, 6.140e+03, 6.163e+03, 6.201e+03, 6.205e+03,\n",
       "       6.213e+03, 6.216e+03, 6.222e+03, 6.224e+03, 6.231e+03, 6.233e+03,\n",
       "       6.253e+03, 6.266e+03, 6.271e+03, 6.272e+03, 6.281e+03, 6.290e+03,\n",
       "       6.297e+03, 6.302e+03, 6.307e+03, 6.308e+03, 6.313e+03, 6.323e+03,\n",
       "       6.327e+03, 6.337e+03, 6.394e+03, 6.396e+03, 6.401e+03, 6.413e+03,\n",
       "       6.501e+03, 6.516e+03, 9.311e+03, 9.322e+03, 9.332e+03, 9.356e+03,\n",
       "       9.357e+03, 9.373e+03, 9.374e+03, 9.397e+03, 1.400e+01, 6.212e+03,\n",
       "       6.262e+03, 6.082e+03, 9.375e+03, 1.530e+03, 6.513e+03, 6.543e+03,\n",
       "       6.236e+03, 5.127e+03, 3.719e+03, 1.533e+03, 1.532e+03, 3.618e+03,\n",
       "       9.388e+03, 3.000e+01, 6.292e+03, 5.139e+03, 1.537e+03, 6.049e+03,\n",
       "       6.087e+03, 1.527e+03, 6.190e+03, 1.000e+01, 5.100e+01, 7.200e+01,\n",
       "       5.200e+01, 7.300e+01, 3.200e+01, 5.300e+01, 5.600e+01, 6.383e+03,\n",
       "       9.370e+03, 6.265e+03, 6.099e+03, 6.048e+03, 6.289e+03, 1.200e+01,\n",
       "       7.100e+01, 6.291e+03, 3.100e+01, 9.305e+03, 3.300e+01, 7.400e+01,\n",
       "       3.704e+03, 6.094e+03, 6.070e+03, 6.088e+03, 5.168e+03, 6.005e+03,\n",
       "       5.400e+01, 3.722e+03, 5.119e+03, 5.175e+03, 6.010e+03, 6.102e+03,\n",
       "       6.108e+03, 5.146e+03, 6.173e+03, 6.282e+03, 6.336e+03, 1.100e+01,\n",
       "       3.400e+01, 5.113e+03, 6.130e+03, 6.241e+03, 9.342e+03, 9.386e+03,\n",
       "       6.276e+03, 5.163e+03, 5.179e+03, 6.107e+03, 6.360e+03, 6.131e+03,\n",
       "       6.051e+03, 5.156e+03, 6.350e+03, 6.362e+03, 6.400e+03, 9.310e+03,\n",
       "       5.252e+03, 6.366e+03, 9.362e+03, 9.308e+03, 6.006e+03, 6.258e+03,\n",
       "       1.300e+01, 6.310e+03, 9.352e+03, 6.510e+03, 3.602e+03, 9.320e+03,\n",
       "       6.097e+03, 5.159e+03, 6.325e+03, 9.323e+03, 6.220e+03, 9.369e+03,\n",
       "       6.067e+03, 6.031e+03, 6.045e+03, 6.211e+03, 6.269e+03, 5.157e+03,\n",
       "       5.183e+03, 6.056e+03, 3.600e+01, 9.361e+03, 9.372e+03, 1.510e+03,\n",
       "       5.239e+03, 6.184e+03, 6.352e+03, 5.500e+01, 7.700e+01, 3.670e+03,\n",
       "       6.407e+03, 6.544e+03, 6.012e+03, 6.115e+03, 6.207e+03, 6.330e+03,\n",
       "       9.303e+03, 6.053e+03, 6.230e+03, 6.293e+03, 6.502e+03, 6.256e+03,\n",
       "       6.505e+03, 6.090e+03, 6.306e+03, 6.319e+03, 9.360e+03, 5.190e+03,\n",
       "       6.257e+03, 6.288e+03, 6.375e+03, 6.332e+03, 6.078e+03, 9.328e+03,\n",
       "       6.261e+03, 5.164e+03, 6.250e+03, 6.368e+03, 9.336e+03, 1.680e+03,\n",
       "       3.627e+03, 5.188e+03, 6.118e+03, 6.128e+03, 1.500e+01, 6.126e+03,\n",
       "       6.381e+03, 1.668e+03, 1.673e+03, 6.519e+03, 6.135e+03, 6.185e+03,\n",
       "       6.125e+03, 6.217e+03, 6.351e+03, 6.522e+03, 9.380e+03, 6.116e+03,\n",
       "       6.412e+03, 6.114e+03, 5.121e+03, 6.165e+03, 3.500e+01, 1.505e+03,\n",
       "       9.348e+03, 6.346e+03, 6.406e+03, 6.210e+03, 6.386e+03, 5.133e+03,\n",
       "       6.121e+03, 3.655e+03, 6.059e+03, 6.156e+03, 6.245e+03, 6.539e+03,\n",
       "       9.378e+03, 5.173e+03, 5.199e+03, 5.256e+03, 6.008e+03, 6.164e+03,\n",
       "       1.682e+03, 6.339e+03, 6.344e+03, 9.359e+03, 9.387e+03, 6.150e+03,\n",
       "       6.389e+03, 5.700e+01, 6.367e+03, 6.374e+03, 6.318e+03, 6.034e+03,\n",
       "       6.148e+03, 9.345e+03, 5.212e+03, 6.106e+03, 6.312e+03, 6.509e+03,\n",
       "       9.402e+03, 5.176e+03, 5.192e+03, 5.158e+03, 5.170e+03, 6.018e+03,\n",
       "       3.700e+01, 5.206e+03, 6.322e+03, 6.134e+03, 9.341e+03, 6.296e+03,\n",
       "       3.715e+03, 5.223e+03, 5.228e+03, 1.670e+03, 3.642e+03, 6.139e+03,\n",
       "       6.044e+03, 6.520e+03, 6.321e+03, 6.343e+03, 3.706e+03, 5.105e+03,\n",
       "       5.186e+03, 6.404e+03, 6.393e+03, 9.381e+03, 5.166e+03, 6.016e+03,\n",
       "       3.648e+03, 6.188e+03, 6.391e+03, 6.504e+03, 7.000e+00, 5.198e+03,\n",
       "       6.007e+03, 6.160e+03, 5.148e+03, 9.315e+03, 6.122e+03, 9.334e+03,\n",
       "       1.508e+03, 5.128e+03, 1.683e+03, 6.055e+03, 5.254e+03, 6.299e+03,\n",
       "       9.326e+03, 3.732e+03, 5.218e+03, 6.232e+03, 6.037e+03, 6.179e+03,\n",
       "       6.521e+03, 9.366e+03, 6.015e+03, 3.951e+03, 7.600e+01, 6.021e+03,\n",
       "       6.147e+03, 6.376e+03, 5.172e+03, 5.177e+03, 6.365e+03, 9.316e+03,\n",
       "       1.653e+03, 6.234e+03, 6.263e+03, 3.607e+03, 6.145e+03, 3.738e+03,\n",
       "       8.000e+00, 6.172e+03, 6.187e+03, 9.304e+03, 9.340e+03, 9.383e+03,\n",
       "       9.403e+03, 6.316e+03, 6.203e+03, 9.354e+03, 5.180e+03, 9.318e+03,\n",
       "       6.542e+03, 5.194e+03, 3.970e+03, 6.026e+03, 5.202e+03, 6.157e+03,\n",
       "       1.540e+03, 5.154e+03, 6.304e+03, 5.171e+03, 5.233e+03, 9.396e+03,\n",
       "       6.356e+03, 3.605e+03, 5.242e+03, 6.033e+03, 9.405e+03, 3.665e+03,\n",
       "       6.329e+03, 5.208e+03, 3.671e+03, 5.211e+03, 5.226e+03, 5.213e+03,\n",
       "       3.628e+03, 5.200e+03, 3.907e+03, 3.941e+03, 6.238e+03, 5.225e+03,\n",
       "       5.134e+03, 6.075e+03, 6.227e+03, 3.944e+03, 3.948e+03, 3.956e+03,\n",
       "       9.327e+03, 5.229e+03, 6.279e+03, 5.104e+03, 9.364e+03, 3.957e+03,\n",
       "       3.971e+03, 9.393e+03, 5.201e+03, 6.409e+03, 5.221e+03, 3.959e+03,\n",
       "       3.726e+03, 6.371e+03, 6.503e+03, 6.174e+03, 5.117e+03, 6.195e+03,\n",
       "       6.137e+03, 6.237e+03, 6.032e+03, 9.000e+00, 6.414e+03, 6.353e+03,\n",
       "       6.392e+03, 6.089e+03, 6.278e+03, 9.394e+03, 6.511e+03, 6.514e+03,\n",
       "       3.950e+03, 6.181e+03, 1.661e+03, 6.284e+03, 5.205e+03, 5.144e+03,\n",
       "       6.143e+03, 1.659e+03, 6.395e+03, 9.368e+03, 6.132e+03, 9.307e+03,\n",
       "       1.660e+03, 5.203e+03, 1.671e+03, 1.677e+03, 1.520e+03, 1.679e+03,\n",
       "       6.402e+03, 9.313e+03, 1.657e+03, 6.298e+03, 6.091e+03, 1.666e+03,\n",
       "       9.377e+03, 5.217e+03, 9.367e+03, 1.658e+03, 3.974e+03, 9.329e+03,\n",
       "       9.406e+03, 9.306e+03, 6.320e+03, 3.952e+03, 1.506e+03, 6.109e+03,\n",
       "       6.113e+03, 1.674e+03, 5.237e+03, 3.653e+03, 6.275e+03, 5.191e+03,\n",
       "       9.385e+03, 1.656e+03, 3.701e+03, 1.676e+03, 5.195e+03, 5.260e+03,\n",
       "       1.672e+03, 9.395e+03, 6.040e+03, 6.385e+03, 6.085e+03, 9.365e+03,\n",
       "       9.351e+03, 3.965e+03, 3.739e+03, 9.337e+03, 3.672e+03, 6.079e+03,\n",
       "       3.630e+03, 1.503e+03, 3.652e+03, 3.650e+03, 3.663e+03, 6.204e+03,\n",
       "       9.401e+03, 3.620e+03, 3.714e+03, 6.247e+03, 6.335e+03, 6.178e+03,\n",
       "       6.324e+03, 1.529e+03, 1.509e+03, 1.518e+03, 6.286e+03, 1.504e+03,\n",
       "       6.259e+03, 3.702e+03, 5.263e+03, 6.111e+03, 6.083e+03, 6.098e+03,\n",
       "       3.611e+03, 6.277e+03, 1.542e+03, 6.243e+03, 6.072e+03, 6.340e+03,\n",
       "       5.251e+03, 6.295e+03, 6.411e+03, 6.415e+03, 9.339e+03, 6.285e+03,\n",
       "       9.358e+03, 3.631e+03, 9.309e+03, 6.268e+03, 6.274e+03, 6.100e+03,\n",
       "       3.606e+03, 6.105e+03, 6.273e+03, 6.057e+03, 6.384e+03, 9.376e+03,\n",
       "       5.152e+03, 6.254e+03, 5.116e+03, 6.410e+03, 6.251e+03, 6.129e+03,\n",
       "       3.733e+03, 6.081e+03, 6.036e+03, 9.346e+03, 6.311e+03, 6.096e+03,\n",
       "       6.249e+03, 6.508e+03, 9.333e+03, 1.655e+03, 3.721e+03, 6.061e+03,\n",
       "       6.120e+03, 6.303e+03, 1.514e+03, 6.264e+03, 6.162e+03, 6.387e+03,\n",
       "       6.545e+03, 1.535e+03, 5.118e+03, 5.246e+03, 6.373e+03, 3.632e+03,\n",
       "       6.357e+03, 6.028e+03, 1.512e+03, 6.378e+03, 3.617e+03, 6.052e+03,\n",
       "       6.379e+03, 6.242e+03, 5.240e+03, 5.124e+03, 5.153e+03, 9.302e+03,\n",
       "       3.716e+03, 9.324e+03, 1.550e+03, 5.219e+03, 6.050e+03, 6.013e+03,\n",
       "       6.035e+03, 6.146e+03, 1.539e+03, 6.197e+03, 6.038e+03, 9.319e+03,\n",
       "       6.214e+03, 6.124e+03, 5.110e+03, 3.621e+03, 5.150e+03, 6.166e+03,\n",
       "       3.609e+03, 6.359e+03, 6.025e+03, 3.649e+03, 5.193e+03, 3.659e+03,\n",
       "       1.513e+03, 5.232e+03, 6.240e+03, 3.963e+03, 5.181e+03, 6.252e+03,\n",
       "       3.958e+03, 3.962e+03, 5.220e+03, 5.227e+03, 6.228e+03, 6.196e+03,\n",
       "       5.257e+03, 1.651e+03, 5.196e+03, 6.047e+03, 5.067e+03, 6.326e+03,\n",
       "       1.675e+03, 9.301e+03, 1.684e+03, 3.729e+03, 1.667e+03, 1.669e+03,\n",
       "       6.199e+03, 9.349e+03, 6.043e+03, 9.389e+03, 6.334e+03, 5.076e+03,\n",
       "       3.735e+03, 1.554e+03, 3.656e+03, 6.066e+03, 3.667e+03, 3.641e+03,\n",
       "       6.517e+03, 1.662e+03, 3.707e+03, 3.718e+03, 1.526e+03, 6.309e+03,\n",
       "       6.283e+03, 6.314e+03, 6.046e+03, 5.115e+03, 3.603e+03, 6.103e+03,\n",
       "       6.168e+03, 6.267e+03, 5.178e+03, 5.140e+03, 6.364e+03, 5.082e+03,\n",
       "       5.167e+03, 6.058e+03, 3.622e+03, 5.141e+03, 9.344e+03, 6.014e+03,\n",
       "       6.194e+03, 3.742e+03, 5.264e+03, 6.280e+03, 6.019e+03, 6.064e+03,\n",
       "       9.347e+03, 3.612e+03, 1.502e+03, 6.183e+03, 3.654e+03, 6.390e+03,\n",
       "       3.625e+03, 6.152e+03, 3.604e+03, 5.138e+03, 3.619e+03, 6.219e+03,\n",
       "       3.705e+03, 6.347e+03, 1.553e+03, 3.644e+03, 3.921e+03, 5.165e+03,\n",
       "       6.315e+03, 6.382e+03, 3.645e+03, 6.144e+03, 3.736e+03, 6.189e+03,\n",
       "       9.335e+03, 3.614e+03, 5.143e+03, 6.161e+03, 5.083e+03, 5.209e+03,\n",
       "       3.626e+03, 3.643e+03, 9.331e+03, 6.003e+03, 3.904e+03, 3.640e+03,\n",
       "       3.725e+03, 6.541e+03, 6.167e+03, 5.253e+03, 6.071e+03, 1.528e+03,\n",
       "       1.652e+03, 1.678e+03, 3.730e+03, 1.685e+03, 6.169e+03, 3.737e+03,\n",
       "       3.740e+03, 3.664e+03, 1.507e+03, 5.238e+03, 5.248e+03, 6.077e+03,\n",
       "       3.610e+03, 9.363e+03, 6.518e+03, 3.638e+03, 6.175e+03, 3.616e+03,\n",
       "       6.363e+03, 5.169e+03, 5.197e+03, 3.623e+03, 6.192e+03, 3.661e+03,\n",
       "       9.392e+03, 3.635e+03, 3.636e+03, 5.204e+03, 1.544e+03, 5.147e+03,\n",
       "       3.711e+03, 6.370e+03, 6.186e+03, 5.162e+03, 6.355e+03, 3.601e+03,\n",
       "       3.710e+03, 6.399e+03, 3.717e+03, 6.361e+03, 3.669e+03, 6.154e+03,\n",
       "       1.665e+03, 5.207e+03, 5.107e+03, 6.177e+03, 6.030e+03, 6.171e+03,\n",
       "       9.371e+03, 5.130e+03, 9.350e+03, 3.647e+03, 6.270e+03, 6.512e+03,\n",
       "       9.312e+03, 1.516e+03, 1.517e+03, 1.531e+03, 3.703e+03, 3.723e+03,\n",
       "       3.910e+03, 5.049e+03, 5.149e+03, 5.249e+03, 5.258e+03, 6.123e+03,\n",
       "       6.138e+03, 6.155e+03, 6.176e+03, 6.193e+03, 6.226e+03, 6.287e+03,\n",
       "       6.301e+03, 6.317e+03, 6.328e+03, 6.408e+03, 9.353e+03, 9.404e+03,\n",
       "       9.390e+03, 6.041e+03, 5.224e+03, 6.405e+03, 6.022e+03, 5.235e+03,\n",
       "       6.200e+03, 6.515e+03])"
      ]
     },
     "execution_count": 21,
     "metadata": {},
     "output_type": "execute_result"
    }
   ],
   "source": [
    "char_length = []\n",
    "\n",
    "for vehicle in rtd_df.vehicle_id.unique():\n",
    "    char_length.append(len(str(vehicle)))\n",
    "    \n",
    "char_length\n",
    "\n",
    "rtd_df.vehicle_label.unique()"
   ]
  },
  {
   "cell_type": "code",
   "execution_count": 24,
   "id": "dramatic-table",
   "metadata": {},
   "outputs": [
    {
     "data": {
      "text/plain": [
       "<PeriodArray>\n",
       "['2021-02-15', '2021-02-16', '2021-02-17', '2021-02-18', '2021-02-19',\n",
       " '2021-02-22']\n",
       "Length: 6, dtype: period[D]"
      ]
     },
     "execution_count": 24,
     "metadata": {},
     "output_type": "execute_result"
    }
   ],
   "source": [
    "# def convert_timezone_local(df, colname_list, current_timezone, local_timezone): \n",
    "#         '''\n",
    "#         Converts the columns in colname_list to local timezone\n",
    "\n",
    "#         Args:\n",
    "#             colname_list (list): list of column names (strings) to convert in the RTD_df.df class. \n",
    "#                                 Values should be int for conversion\n",
    "#             current_timezone (str): string of timezone that the column name currently is in\n",
    "#             local_timezone (str): string of the timezone that the column name should be converted to.\n",
    "#         '''\n",
    "#         for column in colname_list:\n",
    "#             df[column] = pd.to_datetime(df[column], unit='s').dt.tz_localize(current_timezone).dt.tz_convert(local_timezone)\n",
    "        \n",
    "#         return df\n",
    "\n",
    "# rtd_df = convert_timezone_local(rtd_df, ['timestamp'], 'UTC', 'US/Mountain')\n",
    "rtd_df.timestamp.dt.to_period('D').unique()"
   ]
  },
  {
   "cell_type": "code",
   "execution_count": 47,
   "id": "equipped-michigan",
   "metadata": {
    "scrolled": true
   },
   "outputs": [],
   "source": [
    "sorted_rtd_df = rtd_df.sort_values(['vehicle_id', 'timestamp'])\n",
    "sorted_rtd_df.loc[:,'departure_timestamp'] = sorted_rtd_df.groupby(['trip_id', 'vehicle_label']).timestamp.shift(-1)\n",
    "sorted_rtd_df.loc[:,'departure_vehicle_lat'] = sorted_rtd_df.groupby(['trip_id', 'vehicle_label']).vehicle_lat.shift(-1)\n",
    "sorted_rtd_df.loc[:,'departure_vehicle_lng'] = sorted_rtd_df.groupby(['trip_id', 'vehicle_label']).vehicle_lng.shift(-1)\n",
    "sorted_rtd_df.loc[:,'next_stop_id'] = sorted_rtd_df.groupby(['trip_id', 'vehicle_label']).stop_id.shift(-1)"
   ]
  },
  {
   "cell_type": "code",
   "execution_count": 48,
   "id": "crucial-northeast",
   "metadata": {},
   "outputs": [],
   "source": [
    "rtd_df_stops = sorted_rtd_df[~(sorted_rtd_df.stop_id == sorted_rtd_df.next_stop_id)]\n",
    "rtd_df_stops = rtd_df_stops[~rtd_df_stops.next_stop_id.isnull()]"
   ]
  },
  {
   "cell_type": "code",
   "execution_count": 49,
   "id": "golden-lyric",
   "metadata": {},
   "outputs": [],
   "source": [
    "def join_txt_file(df, txt_file, join_type, join_columns):\n",
    "        '''\n",
    "        Joins a txt column to a pandas DataFrame by the join_column(s) using the type of join passed ('left', 'outer')\n",
    "        \n",
    "        Args:\n",
    "            txt_file (str): Filepath to a text file that is separated by ','\n",
    "\n",
    "            join_type (str): The type of join to use (Left, Outer, Inner, Full)\n",
    "\n",
    "            join_columns (list): The columns to perform the join with\n",
    "        '''\n",
    "        return pd.merge(df, pd.read_csv(txt_file, delimiter=','), how=join_type, on=join_columns, suffixes=('', '_joined')) \n",
    "\n",
    "rtd_df_stops = join_txt_file(rtd_df_stops, '~/Documents/dsi/repos/rtd_on_time_departure/data/google_transit/routes.txt', 'left', ['route_id'])\n",
    "rtd_df_stops = join_txt_file(rtd_df_stops, '~/Documents/dsi/repos/rtd_on_time_departure/data/google_transit/trips.txt', 'left', ['trip_id'])\n",
    "rtd_df_stops = join_txt_file(rtd_df_stops, '~/Documents/dsi/repos/rtd_on_time_departure/data/google_transit/stops.txt', 'left', ['stop_id'])\n",
    "rtd_df_stops = join_txt_file(rtd_df_stops, '~/Documents/dsi/repos/rtd_on_time_departure/data/google_transit/stop_times.txt', 'left', ['trip_id', 'stop_id'])"
   ]
  },
  {
   "cell_type": "code",
   "execution_count": 50,
   "id": "thirty-symphony",
   "metadata": {},
   "outputs": [],
   "source": [
    "rtd_df_stops = rtd_df_stops[~(rtd_df_stops.stop_name.isnull()) & (rtd_df_stops.vehicle_lat > 0.0)]"
   ]
  },
  {
   "cell_type": "code",
   "execution_count": 52,
   "id": "inner-digit",
   "metadata": {},
   "outputs": [],
   "source": [
    "final_rtd_data = rtd_df_stops.loc[:,['entity_id'\n",
    "                  ,'vehicle_id'\n",
    "                  ,'vehicle_label'\n",
    "                  ,'trip_id'\n",
    "                  ,'trip_headsign'\n",
    "                  ,'route_id'\n",
    "                  ,'route_type'\n",
    "                  ,'route_long_name'\n",
    "                  ,'route_short_name'\n",
    "                  ,'route_desc'\n",
    "#                   ,'current_status'\n",
    "                  ,'stop_id'\n",
    "                  ,'stop_name'\n",
    "                  ,'stop_desc'\n",
    "                  ,'vehicle_lat'\n",
    "                  ,'vehicle_lng'\n",
    "                  ,'stop_lat'\n",
    "                  ,'stop_lon'\n",
    "                  ,'departure_vehicle_lat'\n",
    "                  ,'departure_vehicle_lng'\n",
    "                  ,'timestamp'\n",
    "                  ,'arrival_time'\n",
    "                  ,'departure_timestamp'\n",
    "                  ,'departure_time']]"
   ]
  },
  {
   "cell_type": "code",
   "execution_count": 54,
   "id": "radical-bahrain",
   "metadata": {},
   "outputs": [],
   "source": [
    "def parse_codes(df, colname, code_dict):\n",
    "        '''\n",
    "        Converts coded integers to their real-world values given in the code_dict\n",
    "\n",
    "        Args:\n",
    "            colname (str): column name of dataframe that contains the coded values to be converted\n",
    "\n",
    "            code_dict (dict): dictionary of code conversion where the keys are the code integers and values \n",
    "            are their corresponding real-world values.\n",
    "        '''\n",
    "        df[colname] = df[colname].replace(to_replace = code_dict)\n",
    "\n",
    "        return df\n",
    "    \n",
    "status_dict = {0: 'incoming_at'\n",
    "                  ,1: 'stopped_at'\n",
    "                  ,2: 'in_transit_to'}\n",
    "\n",
    "route_dict = {0: 'light_rail'\n",
    "             ,2: 'commuter_rail'\n",
    "             ,3: 'bus'}\n",
    "\n",
    "# final_rtd_data = parse_codes(final_rtd_data, 'current_status', status_dict)\n",
    "final_rtd_data = parse_codes(final_rtd_data, 'route_type', route_dict)"
   ]
  },
  {
   "cell_type": "code",
   "execution_count": 55,
   "id": "signal-novelty",
   "metadata": {},
   "outputs": [],
   "source": [
    "final_rtd_data.rename({'timestamp': 'arrival_timestamp'\n",
    "              ,'arrival_time': 'scheduled_arrival_time'\n",
    "              ,'departure_time': 'scheduled_departure_time'\n",
    "              ,'vehicle_lat': 'arrival_vehicle_lat'\n",
    "              ,'vehicle_lng': 'arrival_vehicle_lng'\n",
    "              ,'stop_lon': 'stop_lng'}, axis=1, inplace=True)"
   ]
  },
  {
   "cell_type": "code",
   "execution_count": 56,
   "id": "hindu-universal",
   "metadata": {
    "scrolled": true
   },
   "outputs": [
    {
     "name": "stderr",
     "output_type": "stream",
     "text": [
      "/opt/anaconda3/lib/python3.7/site-packages/pandas/core/arrays/datetimes.py:1104: UserWarning: Converting to PeriodArray/Index representation will drop timezone information.\n",
      "  UserWarning,\n",
      "/opt/anaconda3/lib/python3.7/site-packages/pandas/core/arrays/datetimes.py:1104: UserWarning: Converting to PeriodArray/Index representation will drop timezone information.\n",
      "  UserWarning,\n"
     ]
    }
   ],
   "source": [
    "def calculate_time(df, time_1, time_2, new_column):\n",
    "        '''\n",
    "        Calculates the time in minutes between a timestamp and a string in the format %H:%M:%S\n",
    "\n",
    "        Args:\n",
    "            time_1 (str): The name of the column with timestamp values to use for the first time\n",
    "\n",
    "            time_2 (str): The name of the column with string values in the format %H:%M:%S to use for the second time\n",
    "\n",
    "            new_column (str): The name of the new column created from the difference in times\n",
    "        '''\n",
    "        p = re.compile('00:\\d{2}')\n",
    "        overnight = ((df[time_2].apply(lambda x: bool(p.match(x[0:5])))) & (df[time_1].apply(lambda x: x.hour) == 23))\n",
    "        df.loc[~overnight, 'day_date'] = (df[time_1].dt.to_period('D')).astype(str)\n",
    "        df.loc[overnight, 'day_date'] = (df[time_1].dt.to_period('D') + np.timedelta64(1,'D')).astype(str)\n",
    "        scheduled_timestamp = pd.to_datetime(df.day_date + ' ' + df[time_2])\n",
    "        time_diff = df[time_1].dt.tz_localize(None) - scheduled_timestamp.apply(lambda x: pd.Timestamp(x))\n",
    "        df[new_column] = round(time_diff.apply(lambda x: x.total_seconds()/60), 2)\n",
    "        \n",
    "        return df\n",
    "\n",
    "    \n",
    "final_rtd_data = final_rtd_data[(~final_rtd_data.departure_timestamp.isnull())\n",
    "                                & (~final_rtd_data.scheduled_arrival_time.isnull()) \n",
    "                                & (~final_rtd_data.scheduled_departure_time.isnull())]\n",
    "\n",
    "final_rtd_data = final_rtd_data.replace({'scheduled_arrival_time': {r'^24':'00'\n",
    "                                                                   ,r'^25':'00'}\n",
    "                                        ,'scheduled_departure_time': {r'^24':'00'\n",
    "                                                                   ,r'^25':'00'}\n",
    "                                        }, regex=True)\n",
    "\n",
    "final_rtd_data = calculate_time(final_rtd_data, 'arrival_timestamp', 'scheduled_arrival_time', 'minutes_to_arrival')\n",
    "final_rtd_data = calculate_time(final_rtd_data, 'departure_timestamp', 'scheduled_departure_time', 'minutes_since_departure')"
   ]
  },
  {
   "cell_type": "code",
   "execution_count": 57,
   "id": "constitutional-landscape",
   "metadata": {},
   "outputs": [],
   "source": [
    "def calculate_distance(df, point_1_lat, point_1_lng, point_2_lat, point_2_lng, new_column):\n",
    "        '''\n",
    "        Calculates the distance between two points in meters given their lat/lng\n",
    "\n",
    "        Args: \n",
    "            point_1_lat (str): The name of the column with the first points latitudes\n",
    "\n",
    "            point_1_lng (str): The name of the column with the first points longitudes\n",
    "\n",
    "            point_2_lat (str): The name of the column with the second points latitudes\n",
    "\n",
    "            point_2_lng (str): The name of the column with the second points longitudes\n",
    "\n",
    "            new_column (str): The name of the new column created from the lat/lng points\n",
    "        '''\n",
    "        point_1 = list(zip(df[point_1_lat], df[point_1_lng]))\n",
    "        point_2 = list(zip(df[point_2_lat], df[point_2_lng]))\n",
    "        \n",
    "        df[new_column] = [round(geo.distance(point_1, point_2).m,2) if (~pd.isnull(point_2[0])) & (point_1[0] > 0) else np.nan for point_1, point_2 in zip(point_1, point_2)]\n",
    "        \n",
    "        return df\n",
    "\n",
    "final_rtd_data = calculate_distance(final_rtd_data, 'arrival_vehicle_lat', 'arrival_vehicle_lng', 'stop_lat', 'stop_lng', 'meters_to_arrival')\n",
    "final_rtd_data = calculate_distance(final_rtd_data, 'departure_vehicle_lat', 'departure_vehicle_lng', 'stop_lat', 'stop_lng', 'meters_since_departure')"
   ]
  },
  {
   "cell_type": "code",
   "execution_count": 58,
   "id": "pressing-oxide",
   "metadata": {
    "scrolled": false
   },
   "outputs": [
    {
     "data": {
      "image/png": "[encoded data removed]",
      "text/plain": [
       "<Figure size 720x288 with 1 Axes>"
      ]
     },
     "metadata": {},
     "output_type": "display_data"
    }
   ],
   "source": [
    "fig, ax = plt.subplots(figsize=(10,4))\n",
    "\n",
    "ax.hist(final_rtd_data.minutes_since_departure, bins=250)\n",
    "ax.set_xlabel('Minutes Before/After Schedule')\n",
    "ax.set_title('Histogram of Trips by Departure Time Before/After Schedule ')\n",
    "_ = plt.xlim((-20,20))"
   ]
  },
  {
   "cell_type": "code",
   "execution_count": 59,
   "id": "sudden-frame",
   "metadata": {},
   "outputs": [
    {
     "data": {
      "text/plain": [
       "99.86733766889212"
      ]
     },
     "execution_count": 59,
     "metadata": {},
     "output_type": "execute_result"
    }
   ],
   "source": [
    "(1 - final_rtd_data[(final_rtd_data.minutes_since_departure <= -20) | (final_rtd_data.minutes_since_departure >= 20)].minutes_since_departure.size / final_rtd_data.minutes_since_departure.size) * 100"
   ]
  },
  {
   "cell_type": "code",
   "execution_count": null,
   "id": "mobile-environment",
   "metadata": {},
   "outputs": [],
   "source": []
  }
 ],
 "metadata": {
  "kernelspec": {
   "display_name": "Python 3",
   "language": "python",
   "name": "python3"
  },
  "language_info": {
   "codemirror_mode": {
    "name": "ipython",
    "version": 3
   },
   "file_extension": ".py",
   "mimetype": "text/x-python",
   "name": "python",
   "nbconvert_exporter": "python",
   "pygments_lexer": "ipython3",
   "version": "3.7.9"
  }
 },
 "nbformat": 4,
 "nbformat_minor": 5
}
