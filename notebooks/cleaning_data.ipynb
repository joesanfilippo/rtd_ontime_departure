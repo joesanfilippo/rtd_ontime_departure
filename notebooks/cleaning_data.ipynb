{
 "cells": [
  {
   "cell_type": "code",
   "execution_count": 104,
   "id": "according-identification",
   "metadata": {},
   "outputs": [],
   "source": [
    "import pandas as pd\n",
    "pd.set_option('display.max_rows', 200)\n",
    "pd.set_option('display.max_columns', 100)\n",
    "import numpy as np\n",
    "import matplotlib.pyplot as plt\n",
    "plt.style.use('ggplot')\n",
    "font = {'weight': 'bold','size':   16}\n",
    "plt.rc('font', **font)\n",
    "import geopy.distance as geo\n",
    "import re\n",
    "import os\n",
    "import boto3\n",
    "import io"
   ]
  },
  {
   "cell_type": "code",
   "execution_count": 105,
   "id": "delayed-baking",
   "metadata": {},
   "outputs": [
    {
     "data": {
      "text/plain": [
       "(1401088, 13)"
      ]
     },
     "execution_count": 105,
     "metadata": {},
     "output_type": "execute_result"
    }
   ],
   "source": [
    "# get your credentials from environment variables\n",
    "aws_id = os.environ['AWS_ACCESS_KEY_ID']\n",
    "aws_secret = os.environ['AWS_SECRET_ACCESS_KEY']\n",
    "\n",
    "client = boto3.client('s3'\n",
    "                      ,aws_access_key_id=aws_id\n",
    "                      ,aws_secret_access_key=aws_secret)\n",
    "\n",
    "bucket_name = 'rtd-on-time-departure'\n",
    "\n",
    "object_key = 'rtd_data.csv'\n",
    "csv_obj = client.get_object(Bucket=bucket_name, Key=object_key)\n",
    "\n",
    "rtd_df = pd.read_csv(io.BytesIO(csv_obj['Body'].read()), encoding='utf8')\n",
    "\n",
    "rtd_df.shape"
   ]
  },
  {
   "cell_type": "code",
   "execution_count": 106,
   "id": "numerical-theater",
   "metadata": {},
   "outputs": [
    {
     "data": {
      "text/plain": [
       "(1401087, 13)"
      ]
     },
     "execution_count": 106,
     "metadata": {},
     "output_type": "execute_result"
    }
   ],
   "source": [
    "rtd_df = rtd_df[(~rtd_df.timestamp.isnull())]\n",
    "rtd_df.shape"
   ]
  },
  {
   "cell_type": "code",
   "execution_count": 107,
   "id": "super-entrance",
   "metadata": {},
   "outputs": [
    {
     "name": "stdout",
     "output_type": "stream",
     "text": [
      "<class 'pandas.core.frame.DataFrame'>\n",
      "Int64Index: 1401087 entries, 1 to 1401087\n",
      "Data columns (total 13 columns):\n",
      " #   Column                 Non-Null Count    Dtype  \n",
      "---  ------                 --------------    -----  \n",
      " 0   entity_id              1401087 non-null  object \n",
      " 1   trip_id                1401087 non-null  float64\n",
      " 2   schedule_relationship  1401087 non-null  float64\n",
      " 3   route_id               1401087 non-null  object \n",
      " 4   direction_id           1401087 non-null  float64\n",
      " 5   vehicle_lat            1401087 non-null  float64\n",
      " 6   vehicle_lng            1401087 non-null  float64\n",
      " 7   bearing                1401087 non-null  float64\n",
      " 8   current_status         1401087 non-null  float64\n",
      " 9   timestamp              1401087 non-null  float64\n",
      " 10  stop_id                1401087 non-null  float64\n",
      " 11  vehicle_id             1401087 non-null  object \n",
      " 12  vehicle_label          1401087 non-null  float64\n",
      "dtypes: float64(10), object(3)\n",
      "memory usage: 149.7+ MB\n"
     ]
    }
   ],
   "source": [
    "rtd_df.info()"
   ]
  },
  {
   "cell_type": "code",
   "execution_count": 108,
   "id": "dramatic-table",
   "metadata": {},
   "outputs": [],
   "source": [
    "def convert_timezone_local(df, colname_list, current_timezone, local_timezone): \n",
    "        '''\n",
    "        Converts the columns in colname_list to local timezone\n",
    "\n",
    "        Args:\n",
    "            colname_list (list): list of column names (strings) to convert in the RTD_df.df class. \n",
    "                                Values should be int for conversion\n",
    "            current_timezone (str): string of timezone that the column name currently is in\n",
    "            local_timezone (str): string of the timezone that the column name should be converted to.\n",
    "        '''\n",
    "        for column in colname_list:\n",
    "            df[column] = pd.to_datetime(df[column], unit='s').dt.tz_localize(current_timezone).dt.tz_convert(local_timezone)\n",
    "        \n",
    "        return df\n",
    "\n",
    "rtd_df = convert_timezone_local(rtd_df, ['timestamp'], 'UTC', 'US/Mountain')"
   ]
  },
  {
   "cell_type": "code",
   "execution_count": 109,
   "id": "equipped-michigan",
   "metadata": {
    "scrolled": true
   },
   "outputs": [],
   "source": [
    "sorted_rtd_df = rtd_df.sort_values(['vehicle_id', 'timestamp'])\n",
    "sorted_rtd_df.loc[:,'departure_timestamp'] = sorted_rtd_df.groupby(['trip_id', 'vehicle_label']).timestamp.shift(-1)\n",
    "sorted_rtd_df.loc[:,'departure_vehicle_lat'] = sorted_rtd_df.groupby(['trip_id', 'vehicle_label']).vehicle_lat.shift(-1)\n",
    "sorted_rtd_df.loc[:,'departure_vehicle_lng'] = sorted_rtd_df.groupby(['trip_id', 'vehicle_label']).vehicle_lng.shift(-1)\n",
    "sorted_rtd_df.loc[:,'next_stop_id'] = sorted_rtd_df.groupby(['trip_id', 'vehicle_label']).stop_id.shift(-1)"
   ]
  },
  {
   "cell_type": "code",
   "execution_count": 110,
   "id": "crucial-northeast",
   "metadata": {},
   "outputs": [],
   "source": [
    "rtd_df_stops = sorted_rtd_df[~(sorted_rtd_df.stop_id == sorted_rtd_df.next_stop_id)]\n",
    "rtd_df_stops = rtd_df_stops[~rtd_df_stops.next_stop_id.isnull()]"
   ]
  },
  {
   "cell_type": "code",
   "execution_count": 111,
   "id": "golden-lyric",
   "metadata": {},
   "outputs": [],
   "source": [
    "def join_txt_file(df, txt_file, join_type, join_columns):\n",
    "        '''\n",
    "        Joins a txt column to a pandas DataFrame by the join_column(s) using the type of join passed ('left', 'outer')\n",
    "        \n",
    "        Args:\n",
    "            txt_file (str): Filepath to a text file that is separated by ','\n",
    "\n",
    "            join_type (str): The type of join to use (Left, Outer, Inner, Full)\n",
    "\n",
    "            join_columns (list): The columns to perform the join with\n",
    "        '''\n",
    "        return pd.merge(df, pd.read_csv(txt_file, delimiter=','), how=join_type, on=join_columns, suffixes=('', '_joined')) \n",
    "\n",
    "rtd_df_stops = join_txt_file(rtd_df_stops, '~/Documents/dsi/repos/rtd_ontime_departure/data/google_transit/routes.txt', 'left', ['route_id'])\n",
    "rtd_df_stops = join_txt_file(rtd_df_stops, '~/Documents/dsi/repos/rtd_ontime_departure/data/google_transit/trips.txt', 'left', ['trip_id'])\n",
    "rtd_df_stops = join_txt_file(rtd_df_stops, '~/Documents/dsi/repos/rtd_ontime_departure/data/google_transit/stops.txt', 'left', ['stop_id'])\n",
    "rtd_df_stops = join_txt_file(rtd_df_stops, '~/Documents/dsi/repos/rtd_ontime_departure/data/google_transit/stop_times.txt', 'left', ['trip_id', 'stop_id'])"
   ]
  },
  {
   "cell_type": "code",
   "execution_count": 112,
   "id": "thirty-symphony",
   "metadata": {},
   "outputs": [
    {
     "data": {
      "text/plain": [
       "array(['104L', 'AT', 'AB1', 'BOLT', 'FF1', 'LD1', 'FF5', 'ATA', 'RX',\n",
       "       'MALL', 'NB2', 'NB1', '46', '4', '402L', '327', '323', '324',\n",
       "       '326', '59', '40', '93L', '19', '8', '92', '44', '6', '65', '52',\n",
       "       '3', '88', '76', '34', '38', '100', '49', '31', '66', '24', '51',\n",
       "       '73', '35', '205', '225', '208', 'JUMP', '204', '15', '11', '105',\n",
       "       '153', '10', '520', '120L', '112', '120E', '20', '12', 'LD3',\n",
       "       '228', 'BOND', '72', '15L', '121', '169', '37', '16', '32', '28',\n",
       "       '29', '36', '9', '43', '21', '1', '48', '83L', '83D', '0', '14',\n",
       "       '130', '42', '45', '135', '139', '133', '120X', '30', 'SKIP',\n",
       "       'DASH', '88L', '145X', '101H', '101D', '101E', '103W', '109L'],\n",
       "      dtype=object)"
      ]
     },
     "execution_count": 112,
     "metadata": {},
     "output_type": "execute_result"
    }
   ],
   "source": [
    "rtd_df_stops = rtd_df_stops[~(rtd_df_stops.stop_name.isnull()) & (rtd_df_stops.vehicle_lat > 0.0) & (rtd_df_stops.vehicle_lng < -104.8)]\n",
    "rtd_df_stops.route_id.unique()"
   ]
  },
  {
   "cell_type": "code",
   "execution_count": 113,
   "id": "inner-digit",
   "metadata": {},
   "outputs": [],
   "source": [
    "final_rtd_data = rtd_df_stops.loc[:,['entity_id'\n",
    "                  ,'vehicle_id'\n",
    "                  ,'vehicle_label'\n",
    "                  ,'trip_id'\n",
    "                  ,'trip_headsign'\n",
    "                  ,'route_id'\n",
    "                  ,'route_type'\n",
    "                  ,'route_long_name'\n",
    "                  ,'route_short_name'\n",
    "                  ,'route_desc'\n",
    "                  ,'current_status'\n",
    "                  ,'stop_id'\n",
    "                  ,'stop_name'\n",
    "                  ,'stop_desc'\n",
    "                  ,'vehicle_lat'\n",
    "                  ,'vehicle_lng'\n",
    "                  ,'stop_lat'\n",
    "                  ,'stop_lon'\n",
    "                  ,'departure_vehicle_lat'\n",
    "                  ,'departure_vehicle_lng'\n",
    "                  ,'timestamp'\n",
    "                  ,'arrival_time'\n",
    "                  ,'departure_timestamp'\n",
    "                  ,'departure_time']]"
   ]
  },
  {
   "cell_type": "code",
   "execution_count": 114,
   "id": "radical-bahrain",
   "metadata": {},
   "outputs": [],
   "source": [
    "def parse_codes(df, colname, code_dict):\n",
    "        '''\n",
    "        Converts coded integers to their real-world values given in the code_dict\n",
    "\n",
    "        Args:\n",
    "            colname (str): column name of dataframe that contains the coded values to be converted\n",
    "\n",
    "            code_dict (dict): dictionary of code conversion where the keys are the code integers and values \n",
    "            are their corresponding real-world values.\n",
    "        '''\n",
    "        df[colname] = df[colname].replace(to_replace = code_dict)\n",
    "\n",
    "        return df\n",
    "    \n",
    "status_dict = {0: 'incoming_at'\n",
    "                  ,1: 'stopped_at'\n",
    "                  ,2: 'in_transit_to'}\n",
    "\n",
    "route_dict = {0: 'light_rail'\n",
    "             ,2: 'commuter_rail'\n",
    "             ,3: 'bus'}\n",
    "\n",
    "final_rtd_data = parse_codes(final_rtd_data, 'current_status', status_dict)\n",
    "final_rtd_data = parse_codes(final_rtd_data, 'route_type', route_dict)"
   ]
  },
  {
   "cell_type": "code",
   "execution_count": 115,
   "id": "signal-novelty",
   "metadata": {},
   "outputs": [],
   "source": [
    "final_rtd_data.rename({'timestamp': 'arrival_timestamp'\n",
    "              ,'arrival_time': 'scheduled_arrival_time'\n",
    "              ,'departure_time': 'scheduled_departure_time'\n",
    "              ,'vehicle_lat': 'arrival_vehicle_lat'\n",
    "              ,'vehicle_lng': 'arrival_vehicle_lng'\n",
    "              ,'stop_lon': 'stop_lng'}, axis=1, inplace=True)"
   ]
  },
  {
   "cell_type": "code",
   "execution_count": 116,
   "id": "hindu-universal",
   "metadata": {
    "scrolled": true
   },
   "outputs": [
    {
     "name": "stderr",
     "output_type": "stream",
     "text": [
      "/opt/anaconda3/lib/python3.7/site-packages/pandas/core/arrays/datetimes.py:1104: UserWarning: Converting to PeriodArray/Index representation will drop timezone information.\n",
      "  UserWarning,\n",
      "/opt/anaconda3/lib/python3.7/site-packages/pandas/core/arrays/datetimes.py:1104: UserWarning: Converting to PeriodArray/Index representation will drop timezone information.\n",
      "  UserWarning,\n"
     ]
    }
   ],
   "source": [
    "def calculate_time(df, time_1, time_2, new_column):\n",
    "        '''\n",
    "        Calculates the time in minutes between a timestamp and a string in the format %H:%M:%S\n",
    "\n",
    "        Args:\n",
    "            time_1 (str): The name of the column with timestamp values to use for the first time\n",
    "\n",
    "            time_2 (str): The name of the column with string values in the format %H:%M:%S to use for the second time\n",
    "\n",
    "            new_column (str): The name of the new column created from the difference in times\n",
    "        '''\n",
    "        p = re.compile('00:\\d{2}')\n",
    "        overnight = ((df[time_2].apply(lambda x: bool(p.match(x[0:5])))) & (df[time_1].apply(lambda x: x.hour) == 23))\n",
    "        df.loc[~overnight, 'day_date'] = (df[time_1].dt.to_period('D')).astype(str)\n",
    "        df.loc[overnight, 'day_date'] = (df[time_1].dt.to_period('D') + np.timedelta64(1,'D')).astype(str)\n",
    "        scheduled_timestamp = pd.to_datetime(df.day_date + ' ' + df[time_2])\n",
    "        time_diff = df[time_1].dt.tz_localize(None) - scheduled_timestamp.apply(lambda x: pd.Timestamp(x))\n",
    "        df[new_column] = time_diff.apply(lambda x: x.total_seconds()/60)\n",
    "        \n",
    "        return df\n",
    "\n",
    "    \n",
    "final_rtd_data = final_rtd_data[(~final_rtd_data.departure_timestamp.isnull())\n",
    "                                & (~final_rtd_data.scheduled_arrival_time.isnull()) \n",
    "                                & (~final_rtd_data.scheduled_departure_time.isnull())]\n",
    "\n",
    "final_rtd_data = final_rtd_data.replace({'scheduled_arrival_time': {r'^24':'00'\n",
    "                                                                   ,r'^25':'00'}\n",
    "                                        ,'scheduled_departure_time': {r'^24':'00'\n",
    "                                                                   ,r'^25':'00'}\n",
    "                                        }, regex=True)\n",
    "\n",
    "final_rtd_data = calculate_time(final_rtd_data, 'arrival_timestamp', 'scheduled_arrival_time', 'minutes_to_arrival')\n",
    "final_rtd_data = calculate_time(final_rtd_data, 'departure_timestamp', 'scheduled_departure_time', 'minutes_since_departure')"
   ]
  },
  {
   "cell_type": "code",
   "execution_count": 117,
   "id": "constitutional-landscape",
   "metadata": {},
   "outputs": [
    {
     "name": "stdout",
     "output_type": "stream",
     "text": [
      "(751978, 29)\n"
     ]
    }
   ],
   "source": [
    "def calculate_distance(df, point_1_lat, point_1_lng, point_2_lat, point_2_lng, new_column):\n",
    "        '''\n",
    "        Calculates the distance between two points in meters given their lat/lng\n",
    "\n",
    "        Args: \n",
    "            point_1_lat (str): The name of the column with the first points latitudes\n",
    "\n",
    "            point_1_lng (str): The name of the column with the first points longitudes\n",
    "\n",
    "            point_2_lat (str): The name of the column with the second points latitudes\n",
    "\n",
    "            point_2_lng (str): The name of the column with the second points longitudes\n",
    "\n",
    "            new_column (str): The name of the new column created from the lat/lng points\n",
    "        '''\n",
    "        point_1 = list(zip(df[point_1_lat], df[point_1_lng]))\n",
    "        point_2 = list(zip(df[point_2_lat], df[point_2_lng]))\n",
    "        \n",
    "        df[new_column] = [round(geo.distance(point_1, point_2).m,2) if (~pd.isnull(point_2[0])) & (point_1[0] > 0) else np.nan for point_1, point_2 in zip(point_1, point_2)]\n",
    "        \n",
    "        return df\n",
    "\n",
    "final_rtd_data = calculate_distance(final_rtd_data, 'arrival_vehicle_lat', 'arrival_vehicle_lng', 'stop_lat', 'stop_lng', 'meters_to_arrival')\n",
    "final_rtd_data = calculate_distance(final_rtd_data, 'departure_vehicle_lat', 'departure_vehicle_lng', 'stop_lat', 'stop_lng', 'meters_since_departure')\n",
    "final_rtd_data.shape"
   ]
  },
  {
   "cell_type": "code",
   "execution_count": 93,
   "id": "structured-creator",
   "metadata": {},
   "outputs": [
    {
     "data": {
      "text/plain": [
       "0.85956992777413"
      ]
     },
     "execution_count": 93,
     "metadata": {},
     "output_type": "execute_result"
    }
   ],
   "source": [
    "on_time_departure = []\n",
    "for rt, dt in zip(final_rtd_data.route_type, final_rtd_data.minutes_since_departure):\n",
    "    if ((rt == 'bus') | (rt == 'light_rail')) & (dt >= -1) & (dt <= 5):\n",
    "        on_time_departure.append('on_time')\n",
    "    elif (rt == 'commuter_rail') & (dt >= 0) & (dt <= 5):\n",
    "        on_time_departure.append('on_time')\n",
    "    elif ((rt == 'bus') | (rt == 'light_rail')) & (dt < -1):\n",
    "        on_time_departure.append('early')\n",
    "    elif (rt == 'commuter_rail') & (dt < 0):\n",
    "        on_time_departure.append('early')\n",
    "    elif ((rt == 'bus') | (rt == 'light_rail')) & (dt > 5):\n",
    "        on_time_departure.append('late')\n",
    "    elif (rt == 'commuter_rail') & (dt > 5):\n",
    "        on_time_departure.append('late')\n",
    "final_rtd_data['departure_status'] = on_time_departure\n",
    "sum(final_rtd_data[final_rtd_data.route_type == 'light_rail'].departure_status == 'on_time') / final_rtd_data[final_rtd_data.route_type == 'light_rail'].shape[0]"
   ]
  },
  {
   "cell_type": "code",
   "execution_count": 79,
   "id": "pressing-oxide",
   "metadata": {
    "scrolled": false
   },
   "outputs": [
    {
     "data": {
      "image/png": "[encoded data removed]",
      "text/plain": [
       "<Figure size 720x360 with 1 Axes>"
      ]
     },
     "metadata": {},
     "output_type": "display_data"
    }
   ],
   "source": [
    "fig, ax = plt.subplots(figsize=(10,5))\n",
    "\n",
    "ax.hist(final_rtd_data.minutes_since_departure, bins=250)\n",
    "ax.set_xlabel('Minutes Before/After Schedule')\n",
    "ax.set_title('Histogram of Trips by Departure Time Before/After Schedule ')\n",
    "_ = plt.xlim((-20,20))"
   ]
  },
  {
   "cell_type": "code",
   "execution_count": 68,
   "id": "sudden-frame",
   "metadata": {},
   "outputs": [
    {
     "data": {
      "text/plain": [
       "99.4772453449436"
      ]
     },
     "execution_count": 68,
     "metadata": {},
     "output_type": "execute_result"
    }
   ],
   "source": [
    "(1 - final_rtd_data[(final_rtd_data.minutes_since_departure <= -20) | (final_rtd_data.minutes_since_departure >= 20)].minutes_since_departure.size / final_rtd_data.minutes_since_departure.size) * 100"
   ]
  }
 ],
 "metadata": {
  "kernelspec": {
   "display_name": "Python 3",
   "language": "python",
   "name": "python3"
  },
  "language_info": {
   "codemirror_mode": {
    "name": "ipython",
    "version": 3
   },
   "file_extension": ".py",
   "mimetype": "text/x-python",
   "name": "python",
   "nbconvert_exporter": "python",
   "pygments_lexer": "ipython3",
   "version": "3.7.9"
  }
 },
 "nbformat": 4,
 "nbformat_minor": 5
}
